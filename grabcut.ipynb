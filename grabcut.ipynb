{
 "cells": [
  {
   "cell_type": "code",
   "execution_count": null,
   "metadata": {},
   "outputs": [],
   "source": [
    "import os\n",
    "import numpy as np\n",
    "from matplotlib import pyplot as plt\n",
    "import cv2 as cv\n",
    "import holoviews as hv\n",
    "from holoviews import opts\n",
    "from holoviews import streams\n",
    "hv.extension('bokeh')"
   ]
  },
  {
   "cell_type": "code",
   "execution_count": null,
   "metadata": {},
   "outputs": [],
   "source": [
    "img_folder = '/Volumes/passport_hd/misc_data/sg/staff_2018/individual'\n",
    "img = cv.imread(os.path.join(img_folder, 'darren.jpg'))\n",
    "img = cv.cvtColor(img, cv.COLOR_BGR2RGB)"
   ]
  },
  {
   "cell_type": "code",
   "execution_count": null,
   "metadata": {},
   "outputs": [],
   "source": [
    "def plot(img, cmap='gray'):\n",
    "    plt.imshow(img, cmap=cmap)\n",
    "    plt.show()"
   ]
  },
  {
   "cell_type": "code",
   "execution_count": null,
   "metadata": {},
   "outputs": [],
   "source": [
    "rgb = hv.RGB(img, bounds=(0, 0, img.shape[1], img.shape[0]))\n",
    "\n",
    "aoi_box = hv.Polygons([])\n",
    "aoi_stream = streams.BoxEdit(source=aoi_box, num_objects=1)\n",
    "aoi_box.opts(opts.Polygons(active_tools=['box_edit'], fill_alpha=0.5, height=300, width=260))\n",
    "\n",
    "keep_path = hv.Path([]).opts(color='green', line_width=5)\n",
    "keep_freehand = streams.FreehandDraw(source=keep_path)\n",
    "keep_path.options(opts.Path(active_tools=['freehand_draw']))\n",
    "\n",
    "discard_path = hv.Path([]).opts(color='red', line_width=5)\n",
    "discard_freehand = streams.FreehandDraw(source=discard_path)\n",
    "discard_path.options(opts.Path(active_tools=['freehand_draw']))\n",
    "\n",
    "hv.Overlay([rgb, aoi_box, keep_path, discard_path])"
   ]
  },
  {
   "cell_type": "code",
   "execution_count": null,
   "metadata": {},
   "outputs": [],
   "source": [
    "mask = np.zeros(img.shape[:2],np.uint8) +2\n",
    "\n",
    "keep_data = keep_freehand.data\n",
    "keep_x = [int(item) for sublist in keep_data['xs'] for item in sublist]\n",
    "keep_y = [int(item) for sublist in keep_data['ys'] for item in sublist]\n",
    "keep_points = np.array(list(zip(keep_x, keep_y)))\n",
    "\n",
    "for i in keep_points:\n",
    "    mask[img.shape[0] - i[1], i[0]] = 1\n",
    "    \n",
    "discard_data = discard_freehand.data\n",
    "discard_x = [int(item) for sublist in discard_data['xs'] for item in sublist]\n",
    "discard_y = [int(item) for sublist in discard_data['ys'] for item in sublist]\n",
    "discard_points = np.array(list(zip(discard_x, discard_y)))\n",
    "\n",
    "for i in discard_points:\n",
    "    mask[img.shape[0] - i[1], i[0]] = 0\n",
    "    \n",
    "bgdModel = np.zeros((1,65),np.float64)\n",
    "fgdModel = np.zeros((1,65),np.float64)\n",
    "\n",
    "aoi_stream_data = aoi_stream.data\n",
    "\n",
    "cv.grabCut(rgb.data,mask,None,bgdModel,fgdModel,5,cv.GC_INIT_WITH_MASK)\n",
    "\n",
    "mask2 = np.where((mask==2)|(mask==0),0,1).astype('uint8')\n",
    "mask2 = cv.dilate(mask2, None, iterations=10)\n",
    "mask2 = cv.erode(mask2, None, iterations=10)\n",
    "img_copy = img*mask2[:,:,np.newaxis]\n",
    "\n",
    "rect = (\n",
    "    int(aoi_stream_data['x0'][0]),\n",
    "    int(img.shape[0] - aoi_stream_data['y1'][0]),\n",
    "    int(aoi_stream_data['x1'][0]),\n",
    "    int(img.shape[0] - aoi_stream_data['y0'][0])\n",
    ")\n",
    "\n",
    "img_copy = img_copy[rect[1]:rect[3], rect[0]:rect[2], :]\n",
    "print(img_copy.shape)\n",
    "plot(img_copy)\n",
    "hv.RGB(img_copy)"
   ]
  },
  {
   "cell_type": "code",
   "execution_count": null,
   "metadata": {},
   "outputs": [],
   "source": []
  }
 ],
 "metadata": {
  "kernelspec": {
   "display_name": "pyviz-cv-py36",
   "language": "python",
   "name": "pyviz-cv-py36"
  },
  "language_info": {
   "codemirror_mode": {
    "name": "ipython",
    "version": 3
   },
   "file_extension": ".py",
   "mimetype": "text/x-python",
   "name": "python",
   "nbconvert_exporter": "python",
   "pygments_lexer": "ipython3",
   "version": "3.6.6"
  }
 },
 "nbformat": 4,
 "nbformat_minor": 2
}
